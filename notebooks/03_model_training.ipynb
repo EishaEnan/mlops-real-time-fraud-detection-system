{
 "cells": [
  {
   "cell_type": "code",
   "execution_count": 1,
   "id": "200a12cb-dad4-4dca-b440-dd0b5a03cb53",
   "metadata": {},
   "outputs": [],
   "source": [
    "# 03_model_training.ipynb\n",
    "# Training baseline models for PaySim fraud detection"
   ]
  },
  {
   "cell_type": "code",
   "execution_count": 2,
   "id": "47df4fc3-fb3b-4695-a437-d88b4604c37c",
   "metadata": {},
   "outputs": [],
   "source": [
    "# --- imports ---\n",
    "import pandas as pd\n",
    "import numpy as np\n",
    "from sklearn.model_selection import train_test_split\n",
    "from sklearn.linear_model import LogisticRegression\n",
    "from sklearn.ensemble import RandomForestClassifier\n",
    "from sklearn.metrics import classification_report, confusion_matrix, roc_auc_score, average_precision_score\n",
    "import mlflow\n",
    "import mlflow.sklearn\n",
    "import matplotlib.pyplot as plt\n",
    "import seaborn as sns\n",
    "import os\n",
    "from dotenv import load_dotenv\n"
   ]
  },
  {
   "cell_type": "code",
   "execution_count": 3,
   "id": "c7c04059-0798-4c13-8ce9-07306051b197",
   "metadata": {},
   "outputs": [],
   "source": [
    "# --- Load environment variables ---\n",
    "load_dotenv()\n",
    "mlflow.set_tracking_uri(os.getenv(\"MLFLOW_TRACKING_URI\"))\n",
    "mlflow.set_registry_uri(os.getenv(\"MLFLOW_ARTIFACT_URI\"))"
   ]
  },
  {
   "cell_type": "code",
   "execution_count": 4,
   "id": "1d74209e-0aec-4b42-8905-793e80b771f3",
   "metadata": {},
   "outputs": [
    {
     "name": "stdout",
     "output_type": "stream",
     "text": [
      "Loaded processed dataset with shape:  (6362620, 16)\n"
     ]
    }
   ],
   "source": [
    "# --- Load Processed Data ---\n",
    "path = \"../data/processed/paysim_features.csv\"\n",
    "df = pd.read_csv(path)\n",
    "print(\"Loaded processed dataset with shape: \", df.shape)"
   ]
  },
  {
   "cell_type": "code",
   "execution_count": 5,
   "id": "2ea34c15-7940-4685-8da3-38e56301c4a3",
   "metadata": {},
   "outputs": [],
   "source": [
    "# --- Features and Target ---\n",
    "X = df.drop(columns=['isFraud'])\n",
    "y = df['isFraud']"
   ]
  },
  {
   "cell_type": "code",
   "execution_count": 6,
   "id": "b55f5276-012b-4a4d-8ece-c776885cf376",
   "metadata": {},
   "outputs": [
    {
     "name": "stdout",
     "output_type": "stream",
     "text": [
      "Train: (4072076, 15), Val: (1018020, 15), Test: (1272524, 15)\n"
     ]
    }
   ],
   "source": [
    "# --- Train/Test Split (Stratified) ---\n",
    "X_temp, X_test, y_temp, y_test = train_test_split(\n",
    "    X, y, test_size=0.2, stratify=y, random_state=42\n",
    ")\n",
    "\n",
    "# --- Validation Dataset Split---\n",
    "X_train, X_val, y_train, y_val = train_test_split(\n",
    "    X_temp, y_temp, test_size=0.2, stratify=y_temp, random_state=42\n",
    ")\n",
    "\n",
    "print(f\"Train: {X_train.shape}, Val: {X_val.shape}, Test: {X_test.shape}\")\n"
   ]
  },
  {
   "cell_type": "code",
   "execution_count": 8,
   "id": "7fab1667-9d51-46f9-b5d5-fc9cc31df512",
   "metadata": {},
   "outputs": [
    {
     "name": "stderr",
     "output_type": "stream",
     "text": [
      "2025/08/05 19:31:59 INFO mlflow.tracking.fluent: Experiment with name 'fraud_detection_baseline' does not exist. Creating a new experiment.\n"
     ]
    },
    {
     "data": {
      "text/plain": [
       "<Experiment: artifact_location='mlflow-artifacts:/352602100880773315', creation_time=1754422319468, experiment_id='352602100880773315', last_update_time=1754422319468, lifecycle_stage='active', name='fraud_detection_baseline', tags={}>"
      ]
     },
     "execution_count": 8,
     "metadata": {},
     "output_type": "execute_result"
    }
   ],
   "source": [
    "# --- Setup MLflow ---\n",
    "mlflow.set_experiment(\"fraud_detection_baseline\")"
   ]
  },
  {
   "cell_type": "code",
   "execution_count": 9,
   "id": "3a45d304-55f6-4d58-92d3-eb24cb71d8f3",
   "metadata": {},
   "outputs": [
    {
     "name": "stderr",
     "output_type": "stream",
     "text": [
      "2025/08/05 19:58:14 WARNING mlflow.models.model: `artifact_path` is deprecated. Please use `name` instead.\n",
      "\u001b[31m2025/08/05 19:58:20 WARNING mlflow.models.model: Model logged without a signature and input example. Please set `input_example` parameter when logging the model to auto infer the model signature.\u001b[0m\n"
     ]
    },
    {
     "name": "stdout",
     "output_type": "stream",
     "text": [
      "\n",
      "Logistic Regression Validation Results:\n",
      "ROC AUC: 0.9563304498967194\n",
      "Avg Precision: 0.5856908999798426\n",
      "              precision    recall  f1-score   support\n",
      "\n",
      "           0       1.00      0.95      0.98   1016706\n",
      "           1       0.03      0.96      0.05      1314\n",
      "\n",
      "    accuracy                           0.95   1018020\n",
      "   macro avg       0.51      0.96      0.51   1018020\n",
      "weighted avg       1.00      0.95      0.98   1018020\n",
      "\n",
      "🏃 View run LogisticRegression at: http://localhost:5000/#/experiments/352602100880773315/runs/7a3ed1c978db420295b8541457121ca1\n",
      "🧪 View experiment at: http://localhost:5000/#/experiments/352602100880773315\n"
     ]
    }
   ],
   "source": [
    "# --- Baseline Model: Logistic Regression ---\n",
    "with mlflow.start_run(run_name=\"LogisticRegression\"):\n",
    "    model = LogisticRegression(max_iter=1000, class_weight='balanced')\n",
    "    model.fit(X_train, y_train)\n",
    "\n",
    "    # Evaluate on validation set\n",
    "    y_val_pred = model.predict(X_val)\n",
    "    y_val_prob = model.predict_proba(X_val)[:, 1]\n",
    "\n",
    "    val_auc = roc_auc_score(y_val, y_val_pred)\n",
    "    val_ap = average_precision_score(y_val, y_val_prob)\n",
    "    val_report = classification_report(y_val, y_val_pred, output_dict=True)\n",
    "\n",
    "    # Log to MLflow\n",
    "    mlflow.sklearn.log_model(model, \"model\")\n",
    "    mlflow.log_metric(\"val_roc_auc\", val_auc)\n",
    "    mlflow.log_metric(\"val_avg_precision\", val_ap)\n",
    "    mlflow.log_metrics(\n",
    "        {\n",
    "        \"val_precision\": val_report[\"1\"][\"precision\"],\n",
    "        \"val_recall\": val_report[\"1\"][\"recall\"],\n",
    "        \"val_f1\": val_report[\"1\"][\"f1-score\"]\n",
    "    }\n",
    "    )\n",
    "\n",
    "    print(\"\\nLogistic Regression Validation Results:\")\n",
    "    print(\"ROC AUC:\", val_auc)\n",
    "    print(\"Avg Precision:\", val_ap)\n",
    "    print(classification_report(y_val, y_val_pred))\n",
    "    "
   ]
  },
  {
   "cell_type": "code",
   "execution_count": null,
   "id": "fd3499cd-1e4e-4bed-a6ce-de59d1695c76",
   "metadata": {},
   "outputs": [],
   "source": []
  }
 ],
 "metadata": {
  "kernelspec": {
   "display_name": "Python (.venv)",
   "language": "python",
   "name": ".venv"
  },
  "language_info": {
   "codemirror_mode": {
    "name": "ipython",
    "version": 3
   },
   "file_extension": ".py",
   "mimetype": "text/x-python",
   "name": "python",
   "nbconvert_exporter": "python",
   "pygments_lexer": "ipython3",
   "version": "3.12.1"
  }
 },
 "nbformat": 4,
 "nbformat_minor": 5
}
