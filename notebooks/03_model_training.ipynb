{
 "cells": [
  {
   "cell_type": "code",
   "execution_count": 1,
   "id": "200a12cb-dad4-4dca-b440-dd0b5a03cb53",
   "metadata": {},
   "outputs": [],
   "source": [
    "# 03_model_training.ipynb\n",
    "# Training baseline models for PaySim fraud detection"
   ]
  },
  {
   "cell_type": "code",
   "execution_count": 1,
   "id": "47df4fc3-fb3b-4695-a437-d88b4604c37c",
   "metadata": {},
   "outputs": [],
   "source": [
    "# --- imports ---\n",
    "import pandas as pd\n",
    "import numpy as np\n",
    "from sklearn.model_selection import train_test_split\n",
    "from sklearn.linear_model import LogisticRegression\n",
    "from sklearn.ensemble import RandomForestClassifier\n",
    "from sklearn.neural_network import MLPClassifier\n",
    "from sklearn.metrics import classification_report, confusion_matrix, roc_auc_score, average_precision_score\n",
    "import xgboost as xgb\n",
    "import mlflow\n",
    "import mlflow.sklearn\n",
    "import mlflow.xgboost\n",
    "import matplotlib.pyplot as plt\n",
    "import seaborn as sns\n",
    "import os\n",
    "from dotenv import load_dotenv\n"
   ]
  },
  {
   "cell_type": "code",
   "execution_count": 2,
   "id": "c7c04059-0798-4c13-8ce9-07306051b197",
   "metadata": {},
   "outputs": [],
   "source": [
    "# --- Load environment variables ---\n",
    "load_dotenv()\n",
    "mlflow.set_tracking_uri(os.getenv(\"MLFLOW_TRACKING_URI\"))\n",
    "mlflow.set_registry_uri(os.getenv(\"MLFLOW_ARTIFACT_URI\"))"
   ]
  },
  {
   "cell_type": "code",
   "execution_count": 3,
   "id": "1d74209e-0aec-4b42-8905-793e80b771f3",
   "metadata": {},
   "outputs": [
    {
     "name": "stdout",
     "output_type": "stream",
     "text": [
      "Loaded processed dataset with shape:  (6362620, 16)\n"
     ]
    }
   ],
   "source": [
    "# --- Load Processed Data ---\n",
    "path = \"../data/processed/paysim_features.csv\"\n",
    "df = pd.read_csv(path)\n",
    "print(\"Loaded processed dataset with shape: \", df.shape)"
   ]
  },
  {
   "cell_type": "code",
   "execution_count": 4,
   "id": "2ea34c15-7940-4685-8da3-38e56301c4a3",
   "metadata": {},
   "outputs": [],
   "source": [
    "# --- Features and Target ---\n",
    "X = df.drop(columns=['isFraud'])\n",
    "y = df['isFraud']"
   ]
  },
  {
   "cell_type": "code",
   "execution_count": 5,
   "id": "b55f5276-012b-4a4d-8ece-c776885cf376",
   "metadata": {},
   "outputs": [
    {
     "name": "stdout",
     "output_type": "stream",
     "text": [
      "Train: (4072076, 15), Val: (1018020, 15), Test: (1272524, 15)\n"
     ]
    }
   ],
   "source": [
    "# --- Train/Test Split (Stratified) ---\n",
    "X_temp, X_test, y_temp, y_test = train_test_split(\n",
    "    X, y, test_size=0.2, stratify=y, random_state=42\n",
    ")\n",
    "\n",
    "# --- Validation Dataset Split---\n",
    "X_train, X_val, y_train, y_val = train_test_split(\n",
    "    X_temp, y_temp, test_size=0.2, stratify=y_temp, random_state=42\n",
    ")\n",
    "\n",
    "print(f\"Train: {X_train.shape}, Val: {X_val.shape}, Test: {X_test.shape}\")\n"
   ]
  },
  {
   "cell_type": "code",
   "execution_count": 6,
   "id": "7fab1667-9d51-46f9-b5d5-fc9cc31df512",
   "metadata": {},
   "outputs": [
    {
     "data": {
      "text/plain": [
       "<Experiment: artifact_location='mlflow-artifacts:/352602100880773315', creation_time=1754422319468, experiment_id='352602100880773315', last_update_time=1754422319468, lifecycle_stage='active', name='fraud_detection_baseline', tags={}>"
      ]
     },
     "execution_count": 6,
     "metadata": {},
     "output_type": "execute_result"
    }
   ],
   "source": [
    "# --- Setup MLflow ---\n",
    "mlflow.set_experiment(\"fraud_detection_baseline\")"
   ]
  },
  {
   "cell_type": "code",
   "execution_count": 9,
   "id": "3a45d304-55f6-4d58-92d3-eb24cb71d8f3",
   "metadata": {},
   "outputs": [
    {
     "name": "stderr",
     "output_type": "stream",
     "text": [
      "2025/08/05 19:58:14 WARNING mlflow.models.model: `artifact_path` is deprecated. Please use `name` instead.\n",
      "\u001b[31m2025/08/05 19:58:20 WARNING mlflow.models.model: Model logged without a signature and input example. Please set `input_example` parameter when logging the model to auto infer the model signature.\u001b[0m\n"
     ]
    },
    {
     "name": "stdout",
     "output_type": "stream",
     "text": [
      "\n",
      "Logistic Regression Validation Results:\n",
      "ROC AUC: 0.9563304498967194\n",
      "Avg Precision: 0.5856908999798426\n",
      "              precision    recall  f1-score   support\n",
      "\n",
      "           0       1.00      0.95      0.98   1016706\n",
      "           1       0.03      0.96      0.05      1314\n",
      "\n",
      "    accuracy                           0.95   1018020\n",
      "   macro avg       0.51      0.96      0.51   1018020\n",
      "weighted avg       1.00      0.95      0.98   1018020\n",
      "\n",
      "🏃 View run LogisticRegression at: http://localhost:5000/#/experiments/352602100880773315/runs/7a3ed1c978db420295b8541457121ca1\n",
      "🧪 View experiment at: http://localhost:5000/#/experiments/352602100880773315\n"
     ]
    }
   ],
   "source": [
    "# --- Baseline Model: Logistic Regression ---\n",
    "with mlflow.start_run(run_name=\"LogisticRegression\"):\n",
    "    model = LogisticRegression(max_iter=1000, class_weight='balanced')\n",
    "    model.fit(X_train, y_train)\n",
    "\n",
    "    # Evaluate on validation set\n",
    "    y_val_pred = model.predict(X_val)\n",
    "    y_val_prob = model.predict_proba(X_val)[:, 1]\n",
    "\n",
    "    val_auc = roc_auc_score(y_val, y_val_pred)\n",
    "    val_ap = average_precision_score(y_val, y_val_prob)\n",
    "    val_report = classification_report(y_val, y_val_pred, output_dict=True)\n",
    "\n",
    "    # Log to MLflow\n",
    "    mlflow.sklearn.log_model(model, \"model\")\n",
    "    mlflow.log_metric(\"val_roc_auc\", val_auc)\n",
    "    mlflow.log_metric(\"val_avg_precision\", val_ap)\n",
    "    mlflow.log_metrics(\n",
    "        {\n",
    "        \"val_precision\": val_report[\"1\"][\"precision\"],\n",
    "        \"val_recall\": val_report[\"1\"][\"recall\"],\n",
    "        \"val_f1\": val_report[\"1\"][\"f1-score\"]\n",
    "    }\n",
    "    )\n",
    "\n",
    "    print(\"\\nLogistic Regression Validation Results:\")\n",
    "    print(\"ROC AUC:\", val_auc)\n",
    "    print(\"Avg Precision:\", val_ap)\n",
    "    print(classification_report(y_val, y_val_pred))\n",
    "    "
   ]
  },
  {
   "cell_type": "code",
   "execution_count": 8,
   "id": "5e5296fe-06e8-4815-86a1-93865128af40",
   "metadata": {},
   "outputs": [],
   "source": []
  },
  {
   "cell_type": "code",
   "execution_count": 10,
   "id": "aa9f3c66-10a9-4fee-9862-15e11d440e49",
   "metadata": {},
   "outputs": [
    {
     "name": "stderr",
     "output_type": "stream",
     "text": [
      "/workspaces/mlops-real-time-fraud-detection-system/.venv/lib/python3.12/site-packages/xgboost/training.py:183: UserWarning: [08:14:06] WARNING: /workspace/src/learner.cc:738: \n",
      "Parameters: { \"eval_metrics\", \"randmo_state\", \"use_label_encoder\" } are not used.\n",
      "\n",
      "  bst.update(dtrain, iteration=i, fobj=obj)\n",
      "2025/08/07 08:14:19 WARNING mlflow.models.model: `artifact_path` is deprecated. Please use `name` instead.\n",
      "/workspaces/mlops-real-time-fraud-detection-system/.venv/lib/python3.12/site-packages/xgboost/sklearn.py:1028: UserWarning: [08:14:19] WARNING: /workspace/src/c_api/c_api.cc:1427: Saving model in the UBJSON format as default.  You can use file extension: `json`, `ubj` or `deprecated` to choose between formats.\n",
      "  self.get_booster().save_model(fname)\n",
      "\u001b[31m2025/08/07 08:14:25 WARNING mlflow.models.model: Model logged without a signature and input example. Please set `input_example` parameter when logging the model to auto infer the model signature.\u001b[0m\n"
     ]
    },
    {
     "name": "stdout",
     "output_type": "stream",
     "text": [
      "\n",
      "XGBoost Validation Results:\n",
      "ROC AUC: 0.9992022930074768\n",
      "Avg Precision: 0.8979261867377035\n",
      "              precision    recall  f1-score   support\n",
      "\n",
      "           0       1.00      0.98      0.99   1016706\n",
      "           1       0.07      0.99      0.13      1314\n",
      "\n",
      "    accuracy                           0.98   1018020\n",
      "   macro avg       0.54      0.99      0.56   1018020\n",
      "weighted avg       1.00      0.98      0.99   1018020\n",
      "\n",
      "🏃 View run XGBoost at: http://localhost:5000/#/experiments/352602100880773315/runs/83f1f6c85495482f9583119b154bcf05\n",
      "🧪 View experiment at: http://localhost:5000/#/experiments/352602100880773315\n"
     ]
    }
   ],
   "source": [
    "# --- XGBoost Model Training ---\n",
    "with mlflow.start_run(run_name=\"XGBoost\"):\n",
    "    model = xgb.XGBClassifier(\n",
    "        n_estimators=100,\n",
    "        max_depth=6,\n",
    "        learning_rate=0.1,\n",
    "        scale_pos_weight=(len(y_train)-sum(y_train)) / sum(y_train),\n",
    "        randmo_state=42,\n",
    "        use_label_encoder=False,\n",
    "        eval_metrics=\"logloss\"\n",
    "    )\n",
    "    model.fit(X_train, y_train)\n",
    "\n",
    "    y_val_pred = model.predict(X_val)\n",
    "    y_val_prob = model.predict_proba(X_val)[:, 1]\n",
    "\n",
    "    val_auc = roc_auc_score(y_val, y_val_prob)\n",
    "    val_ap = average_precision_score(y_val, y_val_prob)\n",
    "    val_report = classification_report(y_val, y_val_pred, output_dict=True)\n",
    "\n",
    "    # Log to MLflow\n",
    "    mlflow.xgboost.log_model(model, \"model\")\n",
    "    params = {\n",
    "        \"n_estimators\": 100,\n",
    "        \"max_depth\": 6,\n",
    "        \"learning_rate\": 0.1\n",
    "    }\n",
    "    mlflow.log_params(params=params)\n",
    "    metrics = {\n",
    "        \"val_roc_auc\": val_auc,\n",
    "        \"val_avg_precision\": val_ap,\n",
    "        \"val_precision\": val_report[\"1\"][\"precision\"],\n",
    "        \"val_recall\": val_report[\"1\"][\"recall\"],\n",
    "        \"val_f1\": val_report[\"1\"][\"f1-score\"],\n",
    "    }\n",
    "\n",
    "    mlflow.log_metrics(metrics=metrics)\n",
    "\n",
    "    print(\"\\nXGBoost Validation Results:\")\n",
    "    print(\"ROC AUC:\", val_auc)\n",
    "    print(\"Avg Precision:\", val_ap)\n",
    "    print(classification_report(y_val, y_val_pred))\n",
    "\n",
    "    \n",
    "    "
   ]
  },
  {
   "cell_type": "code",
   "execution_count": 7,
   "id": "fd3499cd-1e4e-4bed-a6ce-de59d1695c76",
   "metadata": {},
   "outputs": [
    {
     "name": "stderr",
     "output_type": "stream",
     "text": [
      "2025/08/07 09:35:47 WARNING mlflow.models.model: `artifact_path` is deprecated. Please use `name` instead.\n",
      "\u001b[31m2025/08/07 09:35:53 WARNING mlflow.models.model: Model logged without a signature and input example. Please set `input_example` parameter when logging the model to auto infer the model signature.\u001b[0m\n"
     ]
    },
    {
     "name": "stdout",
     "output_type": "stream",
     "text": [
      "\n",
      "Random Forest Validation Results:\n",
      "ROC AUC: 0.9987158480201443\n",
      "Avg Precision: 0.826631532340178\n",
      "              precision    recall  f1-score   support\n",
      "\n",
      "           0       1.00      0.97      0.99   1016706\n",
      "           1       0.05      1.00      0.09      1314\n",
      "\n",
      "    accuracy                           0.97   1018020\n",
      "   macro avg       0.52      0.99      0.54   1018020\n",
      "weighted avg       1.00      0.97      0.99   1018020\n",
      "\n",
      "🏃 View run RandomForest at: http://localhost:5000/#/experiments/352602100880773315/runs/bb9c20fa432a4ccab3bcb6fc6a060a20\n",
      "🧪 View experiment at: http://localhost:5000/#/experiments/352602100880773315\n"
     ]
    }
   ],
   "source": [
    "# --- Random Forest Model Training ---\n",
    "with mlflow.start_run(run_name=\"RandomForest\"):\n",
    "    model = RandomForestClassifier(\n",
    "        n_estimators=100,\n",
    "        max_depth=6,\n",
    "        random_state=42,\n",
    "        class_weight='balanced'\n",
    "    )\n",
    "    model.fit(X_train, y_train)\n",
    "\n",
    "    # --- Validation predictions ---\n",
    "    y_val_pred = model.predict(X_val)\n",
    "    y_val_prob = model.predict_proba(X_val)[:, 1]\n",
    "\n",
    "    # --- Evaluation metrics ---\n",
    "    val_auc = roc_auc_score(y_val, y_val_prob)\n",
    "    val_ap = average_precision_score(y_val, y_val_prob)\n",
    "    val_report = classification_report(y_val, y_val_pred, output_dict=True)\n",
    "\n",
    "    # --- Log model + params ---\n",
    "    mlflow.sklearn.log_model(model, \"model\")\n",
    "    mlflow.log_params({\n",
    "        \"n_estimators\": 100,\n",
    "        \"max_depth\": 6,\n",
    "        \"class_weight\": 'balanced'\n",
    "    })\n",
    "\n",
    "    # --- Log metrics ---\n",
    "    mlflow.log_metrics({\n",
    "        \"val_roc_auc\": val_auc,\n",
    "        \"val_avg_precision\": val_ap,\n",
    "        \"val_precision\": val_report[\"1\"][\"precision\"],\n",
    "        \"val_recall\": val_report[\"1\"][\"recall\"],\n",
    "        \"val_f1\": val_report[\"1\"][\"f1-score\"]\n",
    "    })\n",
    "\n",
    "    # --- Print results ---\n",
    "    print(\"\\nRandom Forest Validation Results:\")\n",
    "    print(\"ROC AUC:\", val_auc)\n",
    "    print(\"Avg Precision:\", val_ap)\n",
    "    print(classification_report(y_val, y_val_pred))\n"
   ]
  },
  {
   "cell_type": "code",
   "execution_count": 9,
   "id": "84f12b47-3d4a-4779-8273-e0d2faf02d14",
   "metadata": {},
   "outputs": [
    {
     "name": "stderr",
     "output_type": "stream",
     "text": [
      "/workspaces/mlops-real-time-fraud-detection-system/.venv/lib/python3.12/site-packages/sklearn/metrics/_classification.py:1731: UndefinedMetricWarning: Precision is ill-defined and being set to 0.0 in labels with no predicted samples. Use `zero_division` parameter to control this behavior.\n",
      "  _warn_prf(average, modifier, f\"{metric.capitalize()} is\", result.shape[0])\n",
      "/workspaces/mlops-real-time-fraud-detection-system/.venv/lib/python3.12/site-packages/sklearn/metrics/_classification.py:1731: UndefinedMetricWarning: Precision is ill-defined and being set to 0.0 in labels with no predicted samples. Use `zero_division` parameter to control this behavior.\n",
      "  _warn_prf(average, modifier, f\"{metric.capitalize()} is\", result.shape[0])\n",
      "/workspaces/mlops-real-time-fraud-detection-system/.venv/lib/python3.12/site-packages/sklearn/metrics/_classification.py:1731: UndefinedMetricWarning: Precision is ill-defined and being set to 0.0 in labels with no predicted samples. Use `zero_division` parameter to control this behavior.\n",
      "  _warn_prf(average, modifier, f\"{metric.capitalize()} is\", result.shape[0])\n",
      "2025/08/07 09:41:58 WARNING mlflow.models.model: `artifact_path` is deprecated. Please use `name` instead.\n",
      "\u001b[31m2025/08/07 09:42:00 WARNING mlflow.models.model: Model logged without a signature and input example. Please set `input_example` parameter when logging the model to auto infer the model signature.\u001b[0m\n"
     ]
    },
    {
     "name": "stdout",
     "output_type": "stream",
     "text": [
      "\n",
      "Neural Network Validation Results:\n",
      "ROC AUC: 0.4990628882653513\n",
      "Avg Precision: 0.0012883303993261777\n",
      "              precision    recall  f1-score   support\n",
      "\n",
      "           0       1.00      1.00      1.00   1016706\n",
      "           1       0.00      0.00      0.00      1314\n",
      "\n",
      "    accuracy                           1.00   1018020\n",
      "   macro avg       0.50      0.50      0.50   1018020\n",
      "weighted avg       1.00      1.00      1.00   1018020\n",
      "\n",
      "🏃 View run NeuralNetwork at: http://localhost:5000/#/experiments/352602100880773315/runs/3c9bdc7ffc9f473dbb93989cdf3338e9\n",
      "🧪 View experiment at: http://localhost:5000/#/experiments/352602100880773315\n"
     ]
    },
    {
     "name": "stderr",
     "output_type": "stream",
     "text": [
      "/workspaces/mlops-real-time-fraud-detection-system/.venv/lib/python3.12/site-packages/sklearn/metrics/_classification.py:1731: UndefinedMetricWarning: Precision is ill-defined and being set to 0.0 in labels with no predicted samples. Use `zero_division` parameter to control this behavior.\n",
      "  _warn_prf(average, modifier, f\"{metric.capitalize()} is\", result.shape[0])\n",
      "/workspaces/mlops-real-time-fraud-detection-system/.venv/lib/python3.12/site-packages/sklearn/metrics/_classification.py:1731: UndefinedMetricWarning: Precision is ill-defined and being set to 0.0 in labels with no predicted samples. Use `zero_division` parameter to control this behavior.\n",
      "  _warn_prf(average, modifier, f\"{metric.capitalize()} is\", result.shape[0])\n",
      "/workspaces/mlops-real-time-fraud-detection-system/.venv/lib/python3.12/site-packages/sklearn/metrics/_classification.py:1731: UndefinedMetricWarning: Precision is ill-defined and being set to 0.0 in labels with no predicted samples. Use `zero_division` parameter to control this behavior.\n",
      "  _warn_prf(average, modifier, f\"{metric.capitalize()} is\", result.shape[0])\n"
     ]
    }
   ],
   "source": [
    "# --- Neural Network Model Training ---\n",
    "with mlflow.start_run(run_name=\"NeuralNetwork\"):\n",
    "    model = MLPClassifier(\n",
    "        hidden_layer_sizes=(50, 30),\n",
    "        max_iter=500,\n",
    "        activation='relu',\n",
    "        random_state=42,\n",
    "        solver=\"adam\"\n",
    "    )\n",
    "\n",
    "    model.fit(X_train, y_train)\n",
    "\n",
    "    # --- Validation predictions ---\n",
    "    y_val_pred = model.predict(X_val)\n",
    "    y_val_prob = model.predict_proba(X_val)[:, 1]\n",
    "\n",
    "    # --- Evaluation metrics ---\n",
    "    val_auc = roc_auc_score(y_val, y_val_prob)\n",
    "    val_ap = average_precision_score(y_val, y_val_prob)\n",
    "    val_report = classification_report(y_val, y_val_pred, output_dict=True)\n",
    "\n",
    "    # --- Log model + params ---\n",
    "    mlflow.sklearn.log_model(model, \"model\")\n",
    "    mlflow.log_params({\n",
    "        \"hidden_layer_sizes\": (50, 30),\n",
    "        \"max_iter\": 500,\n",
    "        \"activation\": 'relu',\n",
    "        \"solver\": 'adam'\n",
    "    })\n",
    "\n",
    "    # --- Log metrics ---\n",
    "    mlflow.log_metrics({\n",
    "        \"val_roc_auc\": val_auc,\n",
    "        \"val_avg_precision\": val_ap,\n",
    "        \"val_precision\": val_report[\"1\"][\"precision\"],\n",
    "        \"val_recall\": val_report[\"1\"][\"recall\"],\n",
    "        \"val_f1\": val_report[\"1\"][\"f1-score\"]\n",
    "    })\n",
    "\n",
    "    # --- Print results ---\n",
    "    print(\"\\nNeural Network Validation Results:\")\n",
    "    print(\"ROC AUC:\", val_auc)\n",
    "    print(\"Avg Precision:\", val_ap)\n",
    "    print(classification_report(y_val, y_val_pred))"
   ]
  },
  {
   "cell_type": "markdown",
   "id": "6e5bbc68-4ef6-4176-8ca6-dd6cee265599",
   "metadata": {},
   "source": [
    "### 🔍 Model Performance Comparison (Validation Metrics – Fraud Class = 1)\n",
    "\n",
    "| Model            | ROC AUC | Avg Precision | Precision | Recall | F1 Score |\n",
    "|------------------|---------|----------------|-----------|--------|----------|\n",
    "| **Logistic**     | 0.956   | 0.586          | 0.027     | 0.958  | 0.052    |\n",
    "| **Random Forest**| 0.999   | 0.827          | 0.048     | 0.998  | 0.092    |\n",
    "| **XGBoost**      | 0.999   | 0.898          | 0.070     | 0.988  | 0.131    |\n",
    "| **Neural Net**   | 0.499   | 0.001          | 0.000     | 0.000  | 0.000    |\n"
   ]
  },
  {
   "cell_type": "markdown",
   "id": "a7df10b3-63f7-4ee0-b1de-d757b3831db5",
   "metadata": {},
   "source": [
    "### Model Selection Rationale: Why We Chose XGBoost \n",
    "After evaluating multiple models on the PaySim dataset, including **Logistic Regression**, **Random Forest**, **Neural Network**, and **XGBoost**, we chose **XGBoost** as the primary model for further tuning and deployment based on the following reasons: \n",
    "* 📈 **Best Validation Metrics**: XGBoost outperformed other models in **ROC AUC (0.999)** and **Average Precision (0.898)**, which are critical for imbalanced fraud detection tasks.\n",
    "* ⚖️ **Strong Recall on Minority Class**: Despite class imbalance, XGBoost achieved a **recall of 0.99** for fraudulent transactions, ensuring fewer false negatives.\n",
    "* 🧠 **Built-in Handling of Class Imbalance**: Via `scale_pos_weight`, XGBoost handles skewed datasets efficiently without oversampling/undersampling.\n",
    "* 🚀 **Faster Training Time**: Compared to Logistic Regression and Neural Network, XGBoost completed training noticeably faster, likely due to its optimized gradient boosting implementation.\n",
    "* 🔁 **Tunable & Flexible**: XGBoost offers extensive hyperparameter control, making it ideal for performance tuning.\n",
    "\n"
   ]
  },
  {
   "cell_type": "code",
   "execution_count": null,
   "id": "7a0f2851-1a56-488c-a155-fe647e895203",
   "metadata": {},
   "outputs": [],
   "source": []
  },
  {
   "cell_type": "code",
   "execution_count": null,
   "id": "872b92bb-a0ab-48c7-9a7c-2a3a4b63b7b1",
   "metadata": {},
   "outputs": [],
   "source": []
  }
 ],
 "metadata": {
  "kernelspec": {
   "display_name": "Python (.venv)",
   "language": "python",
   "name": ".venv"
  },
  "language_info": {
   "codemirror_mode": {
    "name": "ipython",
    "version": 3
   },
   "file_extension": ".py",
   "mimetype": "text/x-python",
   "name": "python",
   "nbconvert_exporter": "python",
   "pygments_lexer": "ipython3",
   "version": "3.12.1"
  }
 },
 "nbformat": 4,
 "nbformat_minor": 5
}
