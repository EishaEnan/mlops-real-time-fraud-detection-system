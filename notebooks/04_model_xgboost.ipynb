{
 "cells": [
  {
   "cell_type": "code",
   "execution_count": 1,
   "id": "3eafc913-a15b-4003-9ed2-81e934e42748",
   "metadata": {},
   "outputs": [],
   "source": [
    "# 04_model_xgboost.ipynb\n",
    "# Clean and modular XGBoost training with hyperparameter optimization for PaySim fraud detection"
   ]
  },
  {
   "cell_type": "code",
   "execution_count": 14,
   "id": "72692fd0-232b-41c3-b690-d8ba1199df01",
   "metadata": {},
   "outputs": [],
   "source": [
    "# --- Imports ---\n",
    "import pandas as pd\n",
    "import numpy as np\n",
    "import os\n",
    "import pathlib\n",
    "from dotenv import load_dotenv\n",
    "from sklearn.model_selection import train_test_split\n",
    "from sklearn.metrics import classification_report, roc_auc_score, average_precision_score\n",
    "\n",
    "import xgboost as xgb\n",
    "import mlflow\n",
    "import mlflow.xgboost\n",
    "\n",
    "from hyperopt import fmin, tpe, hp, Trials, STATUS_OK\n",
    "from hyperopt.pyll.base import scope"
   ]
  },
  {
   "cell_type": "code",
   "execution_count": 15,
   "id": "c35ee355-3266-45f2-816a-daac6d271d41",
   "metadata": {},
   "outputs": [],
   "source": [
    "# absolute path to ../mlruns\n",
    "local_mlruns = pathlib.Path(\"../mlruns\").resolve()"
   ]
  },
  {
   "cell_type": "code",
   "execution_count": 16,
   "id": "73a23de2-ebb8-46b7-a41b-9596d64f20eb",
   "metadata": {},
   "outputs": [],
   "source": [
    "# # --- Load Environment Variables ---\n",
    "# load_dotenv()\n",
    "# mlflow.set_tracking_uri(os.getenv(\"MLFLOW_TRACKING_URI\"))\n",
    "# mlflow.set_registry_uri(os.getenv(\"MLFLOW_ARTIFACT_URI\"))"
   ]
  },
  {
   "cell_type": "code",
   "execution_count": 17,
   "id": "4deeedac-bc39-4c5f-ad82-4cc2c60a83bc",
   "metadata": {},
   "outputs": [],
   "source": [
    "mlflow.set_tracking_uri(f\"file://{local_mlruns}\")"
   ]
  },
  {
   "cell_type": "code",
   "execution_count": 5,
   "id": "4514d9cb-7728-4157-9b52-cc0bbf2e8049",
   "metadata": {},
   "outputs": [
    {
     "name": "stdout",
     "output_type": "stream",
     "text": [
      "Loaded dataset:  (6362620, 16)\n"
     ]
    }
   ],
   "source": [
    "# --- Load Data ---\n",
    "path = \"../data/processed/paysim_features.csv\"\n",
    "df = pd.read_csv(path)\n",
    "print(\"Loaded dataset: \", df.shape)\n"
   ]
  },
  {
   "cell_type": "code",
   "execution_count": 6,
   "id": "0e00e05e-93ae-4307-8232-76364f4702b6",
   "metadata": {},
   "outputs": [],
   "source": [
    "X = df.drop(columns=[\"isFraud\"])\n",
    "y = df['isFraud']"
   ]
  },
  {
   "cell_type": "code",
   "execution_count": 7,
   "id": "7ccd6b83-bc40-419a-a7eb-9c3b75827b07",
   "metadata": {},
   "outputs": [
    {
     "name": "stdout",
     "output_type": "stream",
     "text": [
      "Train: (4072076, 15), Val: (1018020, 15), Test: (1272524, 15)\n"
     ]
    }
   ],
   "source": [
    "X_temp, X_test, y_temp, y_test = train_test_split(X, y, test_size=0.2, stratify=y, random_state=42)\n",
    "X_train, X_val, y_train, y_val = train_test_split(X_temp, y_temp, test_size=0.2, stratify=y_temp, random_state=42)\n",
    "print(f\"Train: {X_train.shape}, Val: {X_val.shape}, Test: {X_test.shape}\")"
   ]
  },
  {
   "cell_type": "code",
   "execution_count": 8,
   "id": "68096364-96b0-4b0b-ac3c-f206970b3ede",
   "metadata": {},
   "outputs": [],
   "source": [
    "# --- Define Search Space ---\n",
    "search_space = {\n",
    "    'max_depth': scope.int(hp.quniform('max_depth', 3, 10, 1)),\n",
    "    'learning_rate': hp.loguniform('learning_rate', -3, 0),\n",
    "    'n_estimators': scope.int(hp.quniform('n_estimators', 50, 300, 10)),\n",
    "    'gamma': hp.uniform('gamma', 0, 5),\n",
    "    'subsample': hp.uniform('subsample', 0.6, 1.0),\n",
    "    'colsample_bytree': hp.uniform('colsample_bytree', 0.6, 1.0),\n",
    "}"
   ]
  },
  {
   "cell_type": "code",
   "execution_count": 18,
   "id": "f8ebdbd0-587a-428f-a61b-b862ebd0b2c1",
   "metadata": {},
   "outputs": [],
   "source": [
    "# --- Objective Function ---\n",
    "def objective(params):\n",
    "    with mlflow.start_run(nested=True):\n",
    "        model = xgb.XGBClassifier(\n",
    "            eval_metric='logloss',\n",
    "            scale_pos_weight=(len(y_train) - sum(y_train)) / sum(y_train),\n",
    "            random_state=42,\n",
    "            **params\n",
    "        )\n",
    "\n",
    "        model.fit(X_train, y_train)\n",
    "        y_val_prob = model.predict_proba(X_val)[:, 1]\n",
    "        val_ap = average_precision_score(y_val, y_val_prob)\n",
    "\n",
    "        mlflow.log_params(params)\n",
    "        mlflow.log_metric(\"val_avg_precision\", val_ap)\n",
    "\n",
    "        return {'loss': -val_ap, 'status': STATUS_OK}"
   ]
  },
  {
   "cell_type": "code",
   "execution_count": 19,
   "id": "76eaab10-03cf-4638-8a6a-e73bcb4efc72",
   "metadata": {},
   "outputs": [
    {
     "name": "stderr",
     "output_type": "stream",
     "text": [
      "2025/08/10 17:45:29 INFO mlflow.tracking.fluent: Experiment with name 'xgboost_hyperopt' does not exist. Creating a new experiment.\n"
     ]
    },
    {
     "name": "stdout",
     "output_type": "stream",
     "text": [
      "\n",
      "\n",
      "Best hyperparameters:\n",
      "{'colsample_bytree': np.float64(0.791581269196184), 'gamma': np.float64(1.9331048512480469), 'learning_rate': np.float64(0.06417734245106829), 'max_depth': np.float64(9.0), 'n_estimators': np.float64(160.0), 'subsample': np.float64(0.8041961358281932)}\n"
     ]
    }
   ],
   "source": [
    "# --- Run Hyperparameter Optimization ---\n",
    "mlflow.set_experiment(\"xgboost_hyperopt\")\n",
    "with mlflow.start_run(run_name=\"xgb_hyperopt_run\"):\n",
    "    trials = Trials()\n",
    "    best_result = fmin(\n",
    "        fn=objective,\n",
    "        space=search_space,\n",
    "        algo=tpe.suggest,\n",
    "        max_evals=20,\n",
    "        trials=trials\n",
    "    )\n",
    "    print(\"\\nBest hyperparameters:\")\n",
    "    print(best_result)"
   ]
  },
  {
   "cell_type": "code",
   "execution_count": 25,
   "id": "01c1f4c3-829a-409a-9eb0-570f92cdc7de",
   "metadata": {},
   "outputs": [],
   "source": [
    "best_params = {\n",
    "    'colsample_bytree': float(0.7916), \n",
    "    'gamma': float(1.9331), \n",
    "    'learning_rate': float(0.0642), \n",
    "    'max_depth': int(9.0), \n",
    "    'n_estimators': int(160), \n",
    "    'subsample': float(0.8042)\n",
    "}"
   ]
  },
  {
   "cell_type": "code",
   "execution_count": 26,
   "id": "0804828b-75fe-439d-a48c-ce4617d8f855",
   "metadata": {},
   "outputs": [
    {
     "data": {
      "text/plain": [
       "{'colsample_bytree': 0.7916,\n",
       " 'gamma': 1.9331,\n",
       " 'learning_rate': 0.0642,\n",
       " 'max_depth': 9,\n",
       " 'n_estimators': 160,\n",
       " 'subsample': 0.8042}"
      ]
     },
     "execution_count": 26,
     "metadata": {},
     "output_type": "execute_result"
    }
   ],
   "source": [
    "best_params"
   ]
  },
  {
   "cell_type": "code",
   "execution_count": 34,
   "id": "eb7b9045-24f7-439d-99dd-588068134306",
   "metadata": {},
   "outputs": [
    {
     "name": "stderr",
     "output_type": "stream",
     "text": [
      "2025/08/10 17:58:43 WARNING mlflow.models.model: `artifact_path` is deprecated. Please use `name` instead.\n",
      "/Users/eishaenan/Desktop/PROJECTS/mlops-real-time-fraud-detection-system/venv/lib/python3.9/site-packages/xgboost/core.py:158: UserWarning: [17:58:43] WARNING: /Users/runner/work/xgboost/xgboost/src/c_api/c_api.cc:1374: Saving model in the UBJSON format as default.  You can use file extension: `json`, `ubj` or `deprecated` to choose between formats.\n",
      "  warnings.warn(smsg, UserWarning)\n",
      "\u001b[31m2025/08/10 17:58:44 WARNING mlflow.models.model: Model logged without a signature and input example. Please set `input_example` parameter when logging the model to auto infer the model signature.\u001b[0m\n"
     ]
    },
    {
     "name": "stdout",
     "output_type": "stream",
     "text": [
      "\n",
      "Final XGBoost Validation Results:\n",
      "ROC AUC: 0.9989062239170021\n",
      "Avg Precision: 0.8948402770731887\n",
      "              precision    recall  f1-score   support\n",
      "\n",
      "           0       1.00      0.99      1.00   1016706\n",
      "           1       0.15      0.95      0.26      1314\n",
      "\n",
      "    accuracy                           0.99   1018020\n",
      "   macro avg       0.57      0.97      0.63   1018020\n",
      "weighted avg       1.00      0.99      1.00   1018020\n",
      "\n"
     ]
    }
   ],
   "source": [
    "# --- Final Model Training with Best Hyperparameters ---\n",
    "with mlflow.start_run(run_name=\"xgb_final_tuned\"):\n",
    "    model = xgb.XGBClassifier(\n",
    "        eval_metric='logloss',\n",
    "        scale_pos_weight=(len(y_train) - sum(y_train)) / sum(y_train),\n",
    "        random_state=42,\n",
    "        **best_params\n",
    "    )\n",
    "\n",
    "    model.fit(X_train, y_train)\n",
    "    \n",
    "    y_val_pred = model.predict(X_val)\n",
    "    y_val_prob = model.predict_proba(X_val)[:, 1]\n",
    "    \n",
    "    val_auc = roc_auc_score(y_val, y_val_prob)\n",
    "    val_ap = average_precision_score(y_val, y_val_prob)\n",
    "    val_report = classification_report(y_val, y_val_pred, output_dict=True)\n",
    "\n",
    "    y_test_pred = model.predict(X_test)\n",
    "    y_test_prob = model.predict_proba(X_test)[:, 1]\n",
    "    \n",
    "    test_auc = roc_auc_score(y_test, y_test_prob)\n",
    "    test_ap = average_precision_score(y_test, y_test_prob)\n",
    "\n",
    "    # Log everything to MLflow\n",
    "    mlflow.xgboost.log_model(model, \"model\")\n",
    "    mlflow.log_params(best_params)\n",
    "    mlflow.log_metrics({\n",
    "        \"val_roc_auc\": val_auc,\n",
    "        \"val_avg_precision\": val_ap,\n",
    "        \"val_precision\": val_report[\"1\"][\"precision\"],\n",
    "        \"val_recall\": val_report[\"1\"][\"recall\"],\n",
    "        \"val_f1\": val_report[\"1\"][\"f1-score\"],\n",
    "        \"test_roc_auc\": test_auc,\n",
    "        \"test_avg_precision\": test_ap\n",
    "    })\n",
    "\n",
    "    print(\"\\nFinal XGBoost Validation Results:\")\n",
    "    print(\"ROC AUC:\", val_auc)\n",
    "    print(\"Avg Precision:\", val_ap)\n",
    "    print(classification_report(y_val, y_val_pred))\n"
   ]
  },
  {
   "cell_type": "code",
   "execution_count": 33,
   "id": "5bebbd91-ad37-4cf4-b033-8890a9ffc301",
   "metadata": {},
   "outputs": [],
   "source": [
    "\n"
   ]
  },
  {
   "cell_type": "code",
   "execution_count": null,
   "id": "2d87407e-ad0e-4c65-8035-5eefe4fffd51",
   "metadata": {},
   "outputs": [],
   "source": []
  }
 ],
 "metadata": {
  "kernelspec": {
   "display_name": "Python (mlops-venv)",
   "language": "python",
   "name": "mlops-venv"
  },
  "language_info": {
   "codemirror_mode": {
    "name": "ipython",
    "version": 3
   },
   "file_extension": ".py",
   "mimetype": "text/x-python",
   "name": "python",
   "nbconvert_exporter": "python",
   "pygments_lexer": "ipython3",
   "version": "3.9.6"
  }
 },
 "nbformat": 4,
 "nbformat_minor": 5
}
