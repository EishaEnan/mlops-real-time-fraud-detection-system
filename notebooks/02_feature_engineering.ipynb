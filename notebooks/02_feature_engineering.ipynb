{
 "cells": [
  {
   "cell_type": "code",
   "execution_count": 1,
   "id": "176bdf46-025d-4026-b07c-f57c1868ed12",
   "metadata": {},
   "outputs": [],
   "source": [
    "# 02_feature_engineering.ipynb\n",
    "# Feature Engineering for PaySim Fraud Detection"
   ]
  },
  {
   "cell_type": "code",
   "execution_count": 2,
   "id": "6003ed7d-ae2b-4803-bcf8-907282d9a453",
   "metadata": {},
   "outputs": [],
   "source": [
    "# --- Setup ---\n",
    "import pandas as pd\n",
    "import numpy as np"
   ]
  },
  {
   "cell_type": "code",
   "execution_count": 3,
   "id": "8d9a2ade-f0d8-49fa-9609-1ad0549f0015",
   "metadata": {},
   "outputs": [],
   "source": [
    "# Load dataset\n",
    "path = \"../data/raw/paysim.csv\"\n",
    "df = pd.read_csv(path)"
   ]
  },
  {
   "cell_type": "code",
   "execution_count": 4,
   "id": "0538074b-4a90-432d-b605-8b687b3a2794",
   "metadata": {},
   "outputs": [],
   "source": [
    "# --- 1. Drop unnecessary columns ---\n",
    "df.drop(['nameOrig', 'nameDest'], axis=1, inplace=True)"
   ]
  },
  {
   "cell_type": "code",
   "execution_count": 5,
   "id": "8916c5f0-7535-497b-9e07-b6b1b1037d17",
   "metadata": {},
   "outputs": [],
   "source": [
    "# --- 2 Encode 'type' ---\n",
    "df['type'] = df['type'].astype('category')\n",
    "df = pd.get_dummies(df, columns=['type']) # One-hot encoding"
   ]
  },
  {
   "cell_type": "code",
   "execution_count": 6,
   "id": "ecd4a55c-f1de-4eaa-afe2-946d647cde36",
   "metadata": {},
   "outputs": [],
   "source": [
    "# --- 3. Log-transform amount ---\n",
    "df['log_amount'] = np.log1p(df['amount'])"
   ]
  },
  {
   "cell_type": "code",
   "execution_count": 9,
   "id": "65e96d94-b06f-4bd7-8da2-28ad97afc886",
   "metadata": {},
   "outputs": [],
   "source": [
    "# --- 4. Balance deltas ---\n",
    "df['deltaOrig'] = df['oldbalanceOrg'] - df['newbalanceOrig']\n",
    "df['deltaDest'] = df['oldbalanceDest'] - df['newbalanceDest']\n"
   ]
  },
  {
   "cell_type": "code",
   "execution_count": 10,
   "id": "2df0fb85-8ab1-4b0a-976d-4823628fe7bd",
   "metadata": {},
   "outputs": [],
   "source": [
    "# --- 5. Balance error (from EDA) ---\n",
    "df['errorOrig'] = df['oldbalanceOrg'] - df['amount'] - df['newbalanceOrig']\n",
    "df['errorDest'] = df['oldbalanceDest'] + df['amount'] - df['newbalanceDest']\n",
    "df['abs_errorOrig'] = df['errorOrig'].abs()\n",
    "df['abs_errorDest'] = df['errorDest'].abs()"
   ]
  },
  {
   "cell_type": "code",
   "execution_count": 12,
   "id": "d9a25a2d-1c4a-4686-aa10-70a0b0839913",
   "metadata": {},
   "outputs": [],
   "source": [
    "# --- 6. Time-based features ---\n",
    "df['hour'] = df['step'] % 24\n",
    "df['day'] = df['step'] // 24"
   ]
  },
  {
   "cell_type": "code",
   "execution_count": 13,
   "id": "3ede48cc-412d-4601-87c6-48eb6043884c",
   "metadata": {},
   "outputs": [],
   "source": [
    "# --- 7. High-value flag ---\n",
    "df['is_high_value'] = (df['amount'] > 200000).astype(int)"
   ]
  },
  {
   "cell_type": "code",
   "execution_count": 17,
   "id": "6cc6b986-d5c6-485b-bcac-3b2cde575c64",
   "metadata": {},
   "outputs": [],
   "source": [
    "# --- 8. Drop highly correlated features (from EDA) ---\n",
    "df.drop(['oldbalanceOrg', 'newbalanceOrig', 'oldbalanceDest', 'newbalanceDest', 'amount', 'errorOrig', 'errorDest'], axis=1, inplace=True)"
   ]
  },
  {
   "cell_type": "code",
   "execution_count": 20,
   "id": "dfbd4680-93e6-407f-88f0-864071139273",
   "metadata": {},
   "outputs": [
    {
     "name": "stdout",
     "output_type": "stream",
     "text": [
      "Final feature columns:\n",
      "Index(['step', 'isFraud', 'isFlaggedFraud', 'type_CASH_IN', 'type_CASH_OUT',\n",
      "       'type_DEBIT', 'type_PAYMENT', 'type_TRANSFER', 'log_amount',\n",
      "       'deltaOrig', 'deltaDest', 'abs_errorOrig', 'abs_errorDest', 'hour',\n",
      "       'day', 'is_high_value'],\n",
      "      dtype='object')\n",
      "\n",
      "Sample:\n",
      "   step  isFraud  isFlaggedFraud  type_CASH_IN  type_CASH_OUT  type_DEBIT  \\\n",
      "0     1        0               0         False          False       False   \n",
      "1     1        0               0         False          False       False   \n",
      "2     1        1               0         False          False       False   \n",
      "3     1        1               0         False           True       False   \n",
      "4     1        0               0         False          False       False   \n",
      "\n",
      "   type_PAYMENT  type_TRANSFER  log_amount  deltaOrig  deltaDest  \\\n",
      "0          True          False    9.194276    9839.64        0.0   \n",
      "1          True          False    7.531166    1864.28        0.0   \n",
      "2         False           True    5.204007     181.00        0.0   \n",
      "3         False          False    5.204007     181.00    21182.0   \n",
      "4          True          False    9.364703   11668.14        0.0   \n",
      "\n",
      "   abs_errorOrig  abs_errorDest  hour  day  is_high_value  \n",
      "0            0.0        9839.64     1    0              0  \n",
      "1            0.0        1864.28     1    0              0  \n",
      "2            0.0         181.00     1    0              0  \n",
      "3            0.0       21363.00     1    0              0  \n",
      "4            0.0       11668.14     1    0              0  \n"
     ]
    }
   ],
   "source": [
    "# --- 9. Final Check ---\n",
    "print(\"Final feature columns:\")\n",
    "print(df.columns)\n",
    "print(\"\\nSample:\")\n",
    "print(df.head())"
   ]
  },
  {
   "cell_type": "code",
   "execution_count": 21,
   "id": "2051cfa7-8048-4989-8fba-1ceb0434713d",
   "metadata": {},
   "outputs": [],
   "source": [
    "#--- 10. Save preprocessed version ---\n",
    "df.to_csv(\"../data/processed/paysim_features.csv\", index=False)"
   ]
  },
  {
   "cell_type": "markdown",
   "id": "2154d04f-6610-4b45-aa97-d533f9156171",
   "metadata": {},
   "source": [
    "## ✅ Feature Engineering Summary\n",
    "\n",
    "- Dropped irrelevant identifiers (`nameOrig`, `nameDest`)\n",
    "- Encoded `type` using one-hot encoding\n",
    "- Engineered new features:\n",
    "  - `log_amount`\n",
    "  - `deltaOrig`, `deltaDest`\n",
    "  - `abs_errorOrig`, `abs_errorDest`\n",
    "  - `hour`, `day` (from step)\n",
    "  - `is_high_value` (amount > 200k)\n",
    "- Removed highly correlated raw balance features\n",
    "- Saved the final dataset to: `data/processed/paysim_features.csv`\n"
   ]
  }
 ],
 "metadata": {
  "kernelspec": {
   "display_name": "Python (.venv)",
   "language": "python",
   "name": ".venv"
  },
  "language_info": {
   "codemirror_mode": {
    "name": "ipython",
    "version": 3
   },
   "file_extension": ".py",
   "mimetype": "text/x-python",
   "name": "python",
   "nbconvert_exporter": "python",
   "pygments_lexer": "ipython3",
   "version": "3.12.1"
  }
 },
 "nbformat": 4,
 "nbformat_minor": 5
}
